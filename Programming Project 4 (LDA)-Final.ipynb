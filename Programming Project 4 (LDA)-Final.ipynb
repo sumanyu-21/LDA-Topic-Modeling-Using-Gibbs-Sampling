{
 "cells": [
  {
   "cell_type": "markdown",
   "metadata": {},
   "source": [
    "#### Importing Libraries"
   ]
  },
  {
   "cell_type": "code",
   "execution_count": 407,
   "metadata": {},
   "outputs": [],
   "source": [
    "import numpy as np\n",
    "import matplotlib.pyplot as plt\n",
    "import seaborn as sns\n",
    "import string\n",
    "import random\n",
    "import time\n",
    "from numpy import exp\n",
    "from tqdm import tqdm_notebook as tqdm"
   ]
  },
  {
   "cell_type": "markdown",
   "metadata": {},
   "source": [
    "#### Functions for taking input"
   ]
  },
  {
   "cell_type": "code",
   "execution_count": 19,
   "metadata": {},
   "outputs": [],
   "source": [
    "def get_data_csv(path):\n",
    "    '''This function returns csv file as a numpy matrix.'''\n",
    "    return np.loadtxt(open(path,'r'),delimiter=',')\n",
    "\n",
    "def get_data_ascii(path):\n",
    "    '''This function is used to read ASCII Files'''\n",
    "    with open(path, 'r') as fp:\n",
    "        return fp.read()\n",
    "    \n",
    "def get_data(path, files):\n",
    "    '''This function reads multiple ascii files and stores them in a list named Content'''\n",
    "    content=[]\n",
    "    for i in range(1,files+1,1):\n",
    "        path_i = path + str(i)\n",
    "        content.append(get_data_ascii(path_i))\n",
    "    return content"
   ]
  },
  {
   "cell_type": "markdown",
   "metadata": {},
   "source": [
    "#### Preparing data for LDA"
   ]
  },
  {
   "cell_type": "code",
   "execution_count": 301,
   "metadata": {},
   "outputs": [],
   "source": [
    "def preparing_data_for_LDA(content,N_topics):\n",
    "    '''This function stores necessary information from content that will be used for LDA'''\n",
    "    N_documents = len(content)\n",
    "    \n",
    "    word_list = []\n",
    "    d_n = []\n",
    "    w_n = []\n",
    "    z_n = []\n",
    "    \n",
    "    dict_word_index = dict()\n",
    "    dict_index_word = dict()\n",
    "    \n",
    "    unique_count = 0\n",
    "    N_words = 0\n",
    "    curr_doc = 0\n",
    "    curr_word = 0\n",
    "    \n",
    "    for s in content:\n",
    "        for word in s.split():\n",
    "            N_words+=1\n",
    "    \n",
    "            word_list.append(word)\n",
    "            d_n.append(curr_doc)\n",
    "            z_n.append(np.random.randint(low=0, high=N_topics, size=1)[0])\n",
    "            \n",
    "            curr_word+=1\n",
    "            \n",
    "            if(word  not in dict_word_index):\n",
    "                dict_word_index[word] = unique_count;\n",
    "                dict_index_word[unique_count] = word;\n",
    "                unique_count+=1\n",
    "            w_n.append(dict_word_index[word])\n",
    "            \n",
    "        curr_doc+=1\n",
    "#    print(N_words)\n",
    "#    print(dict_word_index)\n",
    "#    print(dict_index_word)\n",
    "#    print(content[0])\n",
    "    d_n = np.array(d_n)\n",
    "    w_n = np.array(w_n)\n",
    "    z_n = np.array(z_n)\n",
    "    \n",
    "#    print(d_n)\n",
    "#    print(w_n)\n",
    "#    print(z_n)\n",
    "    \n",
    "    Vocabulary = len(dict_word_index.keys())\n",
    "#    vocabulary = len(dict_index_word.keys())\n",
    "#    print(Vocabulary,vocabulary)\n",
    "    topic_counts = np.zeros(shape=(N_documents, N_topics))\n",
    "    word_counts = np.zeros(shape=(N_topics,Vocabulary))\n",
    "    \n",
    "    for i in range(0,N_words,1):\n",
    "        topic = z_n[i]\n",
    "        doc = d_n[i]\n",
    "        index=w_n[i]\n",
    "        \n",
    "        topic_counts[doc,topic]+=1\n",
    "        word_counts[topic,index]+=1\n",
    "    \n",
    "#    print(topic_counts)\n",
    "#    print(word_counts)\n",
    "#    print(content[0])\n",
    "#    print(np.sum(topic_counts,axis = 1))\n",
    "    return N_documents, N_words, Vocabulary, word_list, d_n, w_n, z_n, dict_word_index, dict_index_word, topic_counts, word_counts\n"
   ]
  },
  {
   "cell_type": "markdown",
   "metadata": {},
   "source": [
    "#### Function for performing LDA"
   ]
  },
  {
   "cell_type": "code",
   "execution_count": 324,
   "metadata": {},
   "outputs": [],
   "source": [
    "def LDA_using_gibbs_sampling(content, N_topics, alpha, beta = 0.01, N_itr=500):\n",
    "    '''This function is used for performing LDA'''\n",
    "#    print(alpha)\n",
    "    N_documents,N_words, Vocabulary,\\\n",
    "    word_list,\\\n",
    "    d_n, w_n, z_n,\\\n",
    "    dict_word_index, dict_index_word,\\\n",
    "    topic_counts, word_counts = preparing_data_for_LDA(content, N_topics)\n",
    "    \n",
    "#    topic_counts_row_sum = np.sum(topic_counts, axis=1)\n",
    "#    word_counts_row_sum = np.sum(word_counts, axis=1)\n",
    "#    print(topic_counts_row_sum)\n",
    "    pi_n = np.array([i for i in range(0,N_words,1)])\n",
    "    np.random.shuffle(pi_n)\n",
    "#    print(pi_n)\n",
    "#    probabilities = np.zeros(shape=(1,N_topics))\n",
    "    probabilities = [.5]*N_topics\n",
    "#    print(probabilities)\n",
    "#    print(topic_counts)\n",
    "#    print(word_counts)\n",
    "    \n",
    "    for i in range(0, N_itr, 1):\n",
    "        for j in range(0, N_words,1):\n",
    "            curr = pi_n[j]\n",
    "            \n",
    "            word = w_n[curr]\n",
    "            topic = z_n[curr]\n",
    "            doc = d_n[curr]\n",
    "            \n",
    "            topic_counts[doc,topic]-=1\n",
    "            word_counts[topic,word]-=1\n",
    "            \n",
    "            for k in range(0, N_topics, 1):\n",
    "                a = word_counts[k,word] + beta\n",
    "                b = (Vocabulary*beta) +  np.sum(word_counts[k])\n",
    "                c = topic_counts[doc,k] + alpha\n",
    "                d = (N_topics*alpha) + np.sum(topic_counts[doc])\n",
    "                \n",
    "                probabilities[k]=(a/b)*(c/d)\n",
    "            #probabilities[0]/=np.sum(probabilities,axis=1)\n",
    "            #p=np.ndarray.tolist(probabilities)[0]\n",
    "            \n",
    "            probabilities=np.divide(probabilities,np.sum(probabilities))\n",
    "            #print(probabilities)\n",
    "            topic = np.random.choice(range(0,N_topics), p=probabilities)\n",
    "#            print(topic)\n",
    "            z_n[curr] = topic\n",
    "            topic_counts[doc,topic]+=1\n",
    "            word_counts[topic,word]+=1\n",
    "            \n",
    "#    print(word_counts)\n",
    "#    print(topic_counts)\n",
    "    return z_n, topic_counts, word_counts, dict_index_word, dict_word_index\n",
    "\n",
    "\n",
    "def get_most_occuring_words(word_counts, dict_index_word, k):\n",
    "    '''This function returns the k most occuring words in each topic'''\n",
    "    most_occuring = np.zeros(shape=(word_counts.shape[0], k))\n",
    "    a = np.argsort(word_counts, axis=1)\n",
    "#    print(a)\n",
    "    for row in range(0, a.shape[0]):\n",
    "        a[row,:]=a[row][::-1]\n",
    "    \n",
    "    most_occuring_indices = a[:,0:k]\n",
    "#    print(most_occuring)\n",
    "    \n",
    "    most_occuring_words = []\n",
    "    for i in range(0, word_counts.shape[0]):\n",
    "        temp = []\n",
    "        for j in range(0,k):\n",
    "            temp.append(dict_index_word[most_occuring_indices[i,j]])\n",
    "        most_occuring_words.append(temp)\n",
    "    \n",
    "    return most_occuring_words"
   ]
  },
  {
   "cell_type": "markdown",
   "metadata": {},
   "source": [
    "## Functions for performing task 2"
   ]
  },
  {
   "cell_type": "markdown",
   "metadata": {},
   "source": [
    "#### Preparing data for task 2"
   ]
  },
  {
   "cell_type": "code",
   "execution_count": 429,
   "metadata": {},
   "outputs": [],
   "source": [
    "def get_topic_representation(topic_counts, N_topics, alpha):\n",
    "    '''This function returns the LDA topic representation for each document '''\n",
    "#    print(topic_counts.shape)\n",
    "    topic_representation = np.zeros(shape = (topic_counts.shape[0], topic_counts.shape[1]))\n",
    "#    print(topic_representation.shape)\n",
    "#    print(topic_representation.shape[0])\n",
    "#    print(topic_representation.shape[1])\n",
    "    for i in range(0, topic_counts.shape[0],1):\n",
    "        for k in range(0, topic_counts.shape[1],1):\n",
    "#            print(i,k)\n",
    "            a = topic_counts[i, k] + alpha\n",
    "            b = N_topics*alpha + np.sum(topic_counts[i])\n",
    "            \n",
    "            topic_representation[i,k] =a/b\n",
    "    return topic_representation\n",
    "\n",
    "\n",
    "def get_data_BOW(content, dict_word_index):\n",
    "    '''This function returns the BOW representation for each document.'''\n",
    "    data_BOW = np.zeros(shape=(len(content), len(dict_index_word.keys())))\n",
    "    d = 0\n",
    "\n",
    "    for s in content:\n",
    "        for word in s.split():\n",
    "            data_BOW[d,dict_word_index[word]]+=1\n",
    "        d+=1\n",
    "    return data_BOW"
   ]
  },
  {
   "cell_type": "markdown",
   "metadata": {},
   "source": [
    "#### Data Splitting"
   ]
  },
  {
   "cell_type": "code",
   "execution_count": 381,
   "metadata": {},
   "outputs": [],
   "source": [
    "def split_data(X,t,test_ratio=1/3):\n",
    "    '''This function splits the dataset into training and test data'''\n",
    "    n=np.shape(X)[0]\n",
    "    test_index=np.random.choice(np.arange(0,n),replace=False,size=int(n*test_ratio))\n",
    "    train_index=np.array(list(set(np.arange(0,n))-set(test_index)))\n",
    "    \n",
    "    X_test=X[test_index,:]\n",
    "    t_test=t[test_index,:]\n",
    "    \n",
    "    X_train=X[train_index,:]\n",
    "    t_train=t[train_index,:]\n",
    "    \n",
    "    return X_train,t_train,X_test,t_test  \n",
    "\n",
    "def subset_data(X,t,ratio):\n",
    "    '''This function returns a random subset of the data'''\n",
    "    n=np.shape(X)[0]\n",
    "    index=np.random.choice(np.arange(0,n),replace=False,size=int(n*ratio))\n",
    "    return X[index,:],t[index,:]"
   ]
  },
  {
   "cell_type": "markdown",
   "metadata": {},
   "source": [
    "#### Data Preprocesssing"
   ]
  },
  {
   "cell_type": "code",
   "execution_count": 382,
   "metadata": {},
   "outputs": [],
   "source": [
    "def process_train(X_train):\n",
    "    '''This function scales the training data.'''\n",
    "    means=np.mean(X_train[:,1:],axis=0).reshape(1,np.shape(X_train)[1]-1)\n",
    "    std_dev=np.std(X_train[:,1:],axis=0).reshape(1,np.shape(X_train)[1]-1)\n",
    "    \n",
    "    X_train[:,1:]=(X_train[:,1:]-means)/std_dev\n",
    "    return X_train,means,std_dev\n",
    "    \n",
    "def process_test(X_test,means,std_dev):\n",
    "    '''This function scales the test data based on the means and std_dev of train data'''\n",
    "    X_test[:,1:]=(X_test[:,1:]-means)/std_dev\n",
    "    return X_test"
   ]
  },
  {
   "cell_type": "markdown",
   "metadata": {},
   "source": [
    "#### Logistic Regression Functions"
   ]
  },
  {
   "cell_type": "code",
   "execution_count": 383,
   "metadata": {},
   "outputs": [],
   "source": [
    "def sigmoid(a):\n",
    "    '''This function returns the sigmoid of the value'''\n",
    "    return 1/(1+exp(-a))\n",
    "\n",
    "\n",
    "\n",
    "def exponential(a):\n",
    "    '''This function returns the exponential of the value.'''\n",
    "    return exp(a)\n",
    "\n",
    "    \n",
    "    \n",
    "def calculate_y(W,X,t,model,ob=None):\n",
    "    '''This function calculates the y for different models'''\n",
    "    y=np.zeros(shape=(np.shape(X)[0],2))\n",
    "    a=X @ W                           \n",
    "    \n",
    "    if(model=='Logistic'):\n",
    "        for i in range(0,y.shape[0]):\n",
    "            y[i,0]=sigmoid(a[i,0])\n",
    "    return y\n",
    "\n",
    "\n",
    "def calculate_d(t,y,model):\n",
    "    '''This function calculates the d for different models'''\n",
    "    if(model=='Logistic'):\n",
    "        d=t[:,0]-y[:,0]\n",
    "        d=d.reshape(-1,1)\n",
    "        return d\n",
    "\n",
    "\n",
    "    \n",
    "def calculate_r(y,model,ob=None):\n",
    "    '''This fucntion calculates the r for different models.'''\n",
    "    if(model=='Logistic'):\n",
    "        r=np.multiply(y[:,0],1-y[:,0])\n",
    "        return np.diag(r)\n",
    "    \n",
    "\n",
    "\n",
    "def calculate_gradient(X,d,W,alpha=.01):\n",
    "    '''This function calculates the gradient of the function.'''\n",
    "    A=X.T @ d\n",
    "    B=alpha*W\n",
    "    return A-B\n",
    "\n",
    "\n",
    "def calculate_hessian(X,R,alpha=.01):\n",
    "    '''This function calculate sthe hessian of the function'''\n",
    "    A=alpha*np.identity(X.shape[1])\n",
    "    B=(X.T @ R ) @ X\n",
    "    return -1*(A+B)\n",
    "\n",
    "\n",
    "def update_W(W_old,Hessian,gradient):\n",
    "    '''This function updates the weight vector'''\n",
    "    A=np.linalg.inv(Hessian) @ gradient\n",
    "    return W_old-.2*A\n",
    "\n",
    "def check_convergence(W_new,W_old,itr):\n",
    "    '''This function checks if W has converged or not'''\n",
    "    a=W_new-W_old\n",
    "    num=(a.T @ a)[0,0]\n",
    "    den=(W_old.T @ W_old)[0,0]\n",
    "    if(den==0):\n",
    "        return False\n",
    "    elif((num/den)<(1e-3) or itr>=100):\n",
    "        return True\n",
    "    else:\n",
    "        return False\n",
    "\n",
    "def predict_label(X,W,model,ob=None):\n",
    "    '''This function predicts the labels for different models'''\n",
    "    a=X @ W\n",
    "    label=np.zeros(shape=(X.shape[0],1))\n",
    "    \n",
    "    if(model=='Logistic'):\n",
    "        for i in range(0,X.shape[0]):\n",
    "            label[i,0]=sigmoid(a[i,0])\n",
    "            if(label[i,0]>=.5):\n",
    "                label[i,0]=1\n",
    "            else:\n",
    "                label[i,0]=0\n",
    "                \n",
    "    return label    \n",
    "        \n",
    "    \n",
    "def calculate_error(predict,label,model):\n",
    "    '''This fucntion calculates the error for different models.'''\n",
    "    error=0;\n",
    "    if(model=='Logistic'):\n",
    "        for i in range(0,label.shape[0]):\n",
    "            if(predict[i,0]!=label[i,0]):\n",
    "                error+=1\n",
    "           \n",
    "    return error/label.shape[0] "
   ]
  },
  {
   "cell_type": "markdown",
   "metadata": {},
   "source": [
    "#### Performing Logistic Regression"
   ]
  },
  {
   "cell_type": "code",
   "execution_count": 415,
   "metadata": {},
   "outputs": [],
   "source": [
    "def train_GLM(X_train,t_train,model,ob):\n",
    "    '''This function trains a Generalised Linear model depending on the model passed'''\n",
    "    W_new=np.zeros(shape=(np.shape(X_train)[1],1))\n",
    "    #W_new=10*np.random.rand(X_train.shape[1],1)\n",
    "    W_old=np.ones(shape=(np.shape(X_train)[1],1))\n",
    "    itr=0\n",
    "    while(not check_convergence(W_new,W_old,itr)):\n",
    "        Y=calculate_y(W_new,X_train,t_train,model,ob)\n",
    "        d=calculate_d(t_train,Y,model)\n",
    "        R=calculate_r(Y,model,ob)\n",
    "        gradient=calculate_gradient(X_train,d,W_new)\n",
    "        hessian=calculate_hessian(X_train,R)\n",
    "        W_old=W_new\n",
    "        W_new=update_W(W_old,hessian,gradient)\n",
    "        itr+=1  \n",
    "    return W_new,itr-1\n",
    "\n",
    "def experiment(data,label,model,ob=None):\n",
    "    '''This function returns average_error_rate, standard_deviation, average_run_time, average_iterations for the dataset passed.'''\n",
    "    #data=get_data(data_path)\n",
    "    ones=np.ones(shape=(np.shape(data)[0],1))\n",
    "    data=np.hstack((ones,data))\n",
    "\n",
    "#    label=get_data(label_path)\n",
    "#    label=label.reshape(len(label),1)\n",
    "    \n",
    "#    print(data.shape)\n",
    "#    print(label.shape)\n",
    "    X_train,t_train,\\\n",
    "    X_test,t_test=split_data(data,label)\n",
    "    \n",
    "    repeat=30\n",
    "    ratio=np.arange(.1,1.1,.1)\n",
    "    mean_size=np.zeros(len(ratio))\n",
    "    std_size=np.zeros(len(ratio))\n",
    "    itr_avg=np.zeros(len(ratio))\n",
    "    run_time_avg=np.zeros(len(ratio))\n",
    "    \n",
    "    for i in range(0,len(ratio)):\n",
    "        error_curr=[]\n",
    "        itr_curr=[]\n",
    "        run_time_curr=[]\n",
    "        for j in range(0,repeat):\n",
    "            X_train_sub,t_train_sub=subset_data(X_train,t_train,ratio[i])\n",
    "            \n",
    "            t0=time.process_time()\n",
    "            W_MAP,iterations=train_GLM(X_train_sub,t_train_sub,model,ob)\n",
    "            #print(iterations)\n",
    "            t1=time.process_time()\n",
    "            \n",
    "            t_predict=predict_label(X_test,W_MAP,model,ob)\n",
    "            error=calculate_error(t_predict,t_test,model)\n",
    "            \n",
    "            error_curr.append(error)\n",
    "            itr_curr.append(iterations)\n",
    "            run_time_curr.append(t1-t0)\n",
    "            \n",
    "        mean_size[i]=np.mean(error_curr)\n",
    "        std_size[i]=np.std(error_curr)\n",
    "        itr_avg[i]=np.mean(itr_curr)\n",
    "        run_time_avg[i]=np.mean(run_time_curr)\n",
    "    return mean_size,std_size,itr_avg,run_time_avg"
   ]
  },
  {
   "cell_type": "markdown",
   "metadata": {},
   "source": [
    "#### Graph Plotting Functions"
   ]
  },
  {
   "cell_type": "code",
   "execution_count": 474,
   "metadata": {},
   "outputs": [],
   "source": [
    "def plot_graph(X,Y_LDA,std_dev_LDA, Y_BOW, std_dev_BOW):\n",
    "    '''This function plots the necessary graphs for the task'''\n",
    "    plt.figure(1,figsize=(5,5))\n",
    "    \n",
    "    plt.scatter(X,Y_LDA,color = 'b')\n",
    "    plt.scatter(X,Y_BOW,color = 'g')\n",
    "    #lines = plt.plot(X,Y_LDA,X,Y_BOW)\n",
    "    #plt.setp(lines[0],color='b',linewidth=1.0, label ='LDA')\n",
    "    #plt.setp(lines[1], color='g', linewidth=1.0, label = 'BOW')\n",
    "    \n",
    "    line1 = plt.errorbar(X, Y_LDA, yerr = std_dev_LDA)\n",
    "    line2 = plt.errorbar(X, Y_BOW, yerr = std_dev_BOW)\n",
    "    plt.setp(line1,color='b',linewidth=1.0, label ='LDA')\n",
    "    plt.setp(line2, color='g', linewidth=1.0, label = 'BOW')\n",
    "\n",
    "    plt.xlabel(\"Training data size\")\n",
    "    plt.ylabel(\"Average performance\")\n",
    "    plt.title('Variation of average performance as training size increases')\n",
    "    plt.legend()\n",
    "    plt.grid()\n",
    "    plt.show()\n",
    "    "
   ]
  },
  {
   "cell_type": "markdown",
   "metadata": {},
   "source": [
    "### Task 1 : LDA"
   ]
  },
  {
   "cell_type": "code",
   "execution_count": 397,
   "metadata": {},
   "outputs": [],
   "source": [
    "path=\"pp4data\\\\20newsgroups\\\\\"\n",
    "content = get_data(path,200)"
   ]
  },
  {
   "cell_type": "code",
   "execution_count": 398,
   "metadata": {},
   "outputs": [],
   "source": [
    "z_n,\\\n",
    "topic_counts, word_counts,\\\n",
    "dict_index_word, dict_word_index = LDA_using_gibbs_sampling(content, 20, 5/20)"
   ]
  },
  {
   "cell_type": "code",
   "execution_count": 399,
   "metadata": {},
   "outputs": [
    {
     "name": "stdout",
     "output_type": "stream",
     "text": [
      "topic 1 : ['mission', 'hst', 'shuttle', 'solar', 'pat']\n",
      "topic 2 : ['henry', 'edu', 'writes', 'toronto', 'spencer']\n",
      "topic 3 : ['station', 'launch', 'option', 'shuttle', 'redesign']\n",
      "topic 4 : ['nasa', 'science', 'part', 'gov', 'internet']\n",
      "topic 5 : ['insurance', 'geico', 'area', 'detectors', 'radar']\n",
      "topic 6 : ['edu', 'article', 'writes', 'don', 'apr']\n",
      "topic 7 : ['car', 'clutch', 'shifter', 'sho', 'drive']\n",
      "topic 8 : ['want', 'even', 'point', 'good', 'make']\n",
      "topic 9 : ['edu', 'gif', 'uci', 'ics', 'incoming']\n",
      "topic 10 : ['sky', 'things', 'light', 'satellite', 'temperature']\n",
      "topic 11 : ['system', 'such', 'large', 'time', 'high']\n",
      "topic 12 : ['bill', 'moon', 'support', 'rights', 'two']\n",
      "topic 13 : ['mustang', 'george', 'blah', 'howell', 'throw']\n",
      "topic 14 : ['space', 'program', 'world', 'nasa', 'sci']\n",
      "topic 15 : ['time', 'don', 'cost', 'interested', 'years']\n",
      "topic 16 : ['engine', 'driving', 'cars', 'small', 'manual']\n",
      "topic 17 : ['price', 'toyota', 'seat', 'torque', 'used']\n",
      "topic 18 : ['edu', 'writes', 'article', 'use', 'uiuc']\n",
      "topic 19 : ['car', 'ford', 'probe', 'speed', 'low']\n",
      "topic 20 : ['oil', 'change', 'lights', 'service', 'fluid']\n"
     ]
    }
   ],
   "source": [
    "most_occuring_words = get_most_occuring_words(word_counts, dict_index_word, 5)\n",
    "for i in range(0, len(most_occuring_words)):\n",
    "    print(\"topic %d :\"%(i+1),most_occuring_words[i])"
   ]
  },
  {
   "cell_type": "markdown",
   "metadata": {},
   "source": [
    "We can see that the different topic do make sense. For example:<br>\n",
    "1) topic 14 seems to be taliking something about space. <br>\n",
    "2) topic 3 seems to be talking about spaceshuttles.<br>\n",
    "3) topic 7 seems to be talikng about something related to cvehicles.<br>\n",
    "4) topic 18 seems to be talking something about education"
   ]
  },
  {
   "cell_type": "code",
   "execution_count": 402,
   "metadata": {},
   "outputs": [],
   "source": [
    "import csv\n",
    "with open('topicwords.csv', 'w', newline = '') as myfile:\n",
    "    wr = csv.writer(myfile, quoting=csv.QUOTE_ALL)\n",
    "    wr.writerow([\"First\", \"Second\", \"Third\", \"Fourth\", \"Fifth\"])\n",
    "    \n",
    "    for i in range(0,len(most_occuring_words)):\n",
    "        wr.writerow(most_occuring_words[i])"
   ]
  },
  {
   "cell_type": "markdown",
   "metadata": {},
   "source": [
    "### Task 2 : Classification"
   ]
  },
  {
   "cell_type": "markdown",
   "metadata": {},
   "source": [
    "##### Performing LR on LDA representation"
   ]
  },
  {
   "cell_type": "code",
   "execution_count": 543,
   "metadata": {},
   "outputs": [],
   "source": [
    "path = \"pp4data\\\\20newsgroups\\\\index.csv\"\n",
    "data_LDA = get_topic_representation(topic_counts, 20, 5/20)\n",
    "\n",
    "label = get_data_csv(path)\n",
    "label = label[:,1].reshape(-1,1)\n",
    "\n"
   ]
  },
  {
   "cell_type": "code",
   "execution_count": 544,
   "metadata": {},
   "outputs": [],
   "source": [
    "model = 'Logistic'\n",
    "mean_size_LDA,std_size_LDA,itr_avg,run_time_avg=experiment(data_LDA,label,model)"
   ]
  },
  {
   "cell_type": "code",
   "execution_count": 545,
   "metadata": {},
   "outputs": [
    {
     "name": "stdout",
     "output_type": "stream",
     "text": [
      "average performance is : \n",
      "[0.76969697 0.83282828 0.87424242 0.88080808 0.89242424 0.89343434\n",
      " 0.90707071 0.90707071 0.91010101 0.90909091]\n",
      "\n",
      "\n",
      "average standard deviation is :\n",
      "[9.05210574e-02 5.37089809e-02 3.10883099e-02 3.14756292e-02\n",
      " 2.72024909e-02 2.54987991e-02 1.90585477e-02 1.44976769e-02\n",
      " 1.03010495e-02 2.77555756e-17]\n",
      "\n",
      "\n",
      "average number of iterations are : \n",
      "[12.16666667 13.06666667 13.93333333 14.8        15.3        15.96666667\n",
      " 16.23333333 16.93333333 17.1        18.        ]\n",
      "\n",
      "\n",
      "average run_time is :\n",
      "[0.003125   0.00364583 0.00416667 0.00833333 0.07447917 0.05572917\n",
      " 0.09322917 0.0921875  0.09375    0.12135417]\n",
      "\n",
      "\n"
     ]
    }
   ],
   "source": [
    "print(\"average performance is : \\n\"+str(1-mean_size_LDA)+str(\"\\n\\n\"))\n",
    "print(\"average standard deviation is :\\n\"+str(std_size_LDA)+str(\"\\n\\n\"))\n",
    "print(\"average number of iterations are : \\n\"+str(itr_avg)+str(\"\\n\\n\"))\n",
    "print(\"average run_time is :\\n\"+str(run_time_avg)+str(\"\\n\\n\"))"
   ]
  },
  {
   "cell_type": "markdown",
   "metadata": {},
   "source": [
    "##### Performing LR on BOW representation"
   ]
  },
  {
   "cell_type": "code",
   "execution_count": 546,
   "metadata": {},
   "outputs": [],
   "source": [
    "data_BOW = get_data_BOW(content, dict_word_index)"
   ]
  },
  {
   "cell_type": "code",
   "execution_count": 547,
   "metadata": {},
   "outputs": [],
   "source": [
    "model = 'Logistic'\n",
    "mean_size_BOW,std_size_BOW,itr_avg,run_time_avg=experiment(data_LDA,label,model)"
   ]
  },
  {
   "cell_type": "code",
   "execution_count": 548,
   "metadata": {},
   "outputs": [
    {
     "name": "stdout",
     "output_type": "stream",
     "text": [
      "average performance is : \n",
      "[0.79191919 0.85454545 0.89949495 0.91868687 0.93131313 0.94848485\n",
      " 0.9520202  0.96919192 0.96919192 0.96969697]\n",
      "\n",
      "\n",
      "average standard deviation is :\n",
      "[8.03585984e-02 4.95773381e-02 4.70239721e-02 3.21372490e-02\n",
      " 3.14756292e-02 1.97938565e-02 1.95930957e-02 1.38221537e-02\n",
      " 9.96115299e-03 6.93889390e-18]\n",
      "\n",
      "\n",
      "average number of iterations are : \n",
      "[12.1        13.13333333 14.16666667 15.         15.8        16.06666667\n",
      " 16.66666667 17.13333333 17.53333333 18.        ]\n",
      "\n",
      "\n",
      "average run_time is :\n",
      "[0.025      0.00729167 0.00572917 0.0078125  0.05677083 0.06770833\n",
      " 0.0875     0.11197917 0.10208333 0.12760417]\n",
      "\n",
      "\n"
     ]
    }
   ],
   "source": [
    "print(\"average performance is : \\n\"+str(1-mean_size_BOW)+str(\"\\n\\n\"))\n",
    "print(\"average standard deviation is :\\n\"+str(std_size_BOW)+str(\"\\n\\n\"))\n",
    "print(\"average number of iterations are : \\n\"+str(itr_avg)+str(\"\\n\\n\"))\n",
    "print(\"average run_time is :\\n\"+str(run_time_avg)+str(\"\\n\\n\"))"
   ]
  },
  {
   "cell_type": "code",
   "execution_count": 549,
   "metadata": {},
   "outputs": [
    {
     "data": {
      "image/png": "[encoded data removed]",
      "text/plain": [
       "<Figure size 360x360 with 1 Axes>"
      ]
     },
     "metadata": {
      "needs_background": "light"
     },
     "output_type": "display_data"
    }
   ],
   "source": [
    "plot_graph(np.arange(.1,1.1,.1),1-mean_size_LDA,std_size_LDA,1-mean_size_BOW,std_size_BOW)"
   ]
  },
  {
   "cell_type": "markdown",
   "metadata": {},
   "source": [
    "1) We can see that the average performance for BOW is slightly better than the LDA representation with BOW converging to around 95% accuracy and LDA to 91%.<br>\n",
    "\n",
    "2) We can also observe that the standard deviation of accuracy rate decreases in both the cases as we increase the number of samples in trainiing data.<br>\n",
    "\n",
    "3) Using LDA, we have reduced the dimension of a document to only 20. Due to this , runtime taken by Logistic regression for LDA is significantly smaller than the runtime taken by Logistic Regression for BOW.\n",
    "\n"
   ]
  },
  {
   "cell_type": "code",
   "execution_count": null,
   "metadata": {},
   "outputs": [],
   "source": []
  }
 ],
 "metadata": {
  "kernelspec": {
   "display_name": "Python 3",
   "language": "python",
   "name": "python3"
  },
  "language_info": {
   "codemirror_mode": {
    "name": "ipython",
    "version": 3
   },
   "file_extension": ".py",
   "mimetype": "text/x-python",
   "name": "python",
   "nbconvert_exporter": "python",
   "pygments_lexer": "ipython3",
   "version": "3.7.4"
  }
 },
 "nbformat": 4,
 "nbformat_minor": 2
}
